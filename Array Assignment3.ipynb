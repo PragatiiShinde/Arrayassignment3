{
 "cells": [
  {
   "cell_type": "markdown",
   "id": "6e3568d7",
   "metadata": {},
   "source": [
    "Question 1\n",
    "Given an integer array nums of length n and an integer target, find three integers\n",
    "in nums such that the sum is closest to the target.\n",
    "Return the sum of the three integers.\n",
    "\n",
    "You may assume that each input would have exactly one solution."
   ]
  },
  {
   "cell_type": "code",
   "execution_count": 1,
   "id": "1e79910f",
   "metadata": {},
   "outputs": [
    {
     "name": "stdout",
     "output_type": "stream",
     "text": [
      "2\n"
     ]
    }
   ],
   "source": [
    "def find_close_triplet(arr, n, x, count, sum, ind, ans, minm):\n",
    "    # Return on reaching to the end of array\n",
    "    # Here if we picked three element till now then check\n",
    "    # that sum is closest to our \"x\" or not\n",
    "    if ind == n:\n",
    "        if count == 3:\n",
    "            if abs(x - sum) < minm[0]:\n",
    "                minm[0] = abs(x - sum)\n",
    "                ans[0] = sum\n",
    "        return\n",
    " \n",
    "    # Pick this number\n",
    "    find_close_triplet(arr, n, x, count + 1, sum + arr[ind], ind + 1, ans, minm)\n",
    " \n",
    "    # Don't pick this number\n",
    "    find_close_triplet(arr, n, x, count, sum, ind + 1, ans, minm)\n",
    " \n",
    "# Driver's code\n",
    "if __name__ == \"__main__\":\n",
    "  #Input array\n",
    "  arr = [-1, 2, 1, -4]\n",
    "  x = 1\n",
    "  n = len(arr)\n",
    "  minm = [float('inf')]\n",
    "  ans = [0]\n",
    "   \n",
    "  # Function Call\n",
    "  find_close_triplet(arr, n, x, 0, 0, 0, ans, minm)\n",
    "  print(ans[0])"
   ]
  },
  {
   "cell_type": "markdown",
   "id": "752daaaa",
   "metadata": {},
   "source": [
    "Question 2\n",
    "Given an array nums of n integers, return an array of all the unique quadruplets\n",
    "[nums[a], nums[b], nums[c], nums[d]] such that:\n",
    "           ● 0 <= a, b, c, d < n\n",
    "           ● a, b, c, and d are distinct.\n",
    "           ● nums[a] + nums[b] + nums[c] + nums[d] == target\n",
    "\n",
    "You may return the answer in any order.\n"
   ]
  },
  {
   "cell_type": "code",
   "execution_count": 2,
   "id": "3db45e7f",
   "metadata": {},
   "outputs": [
    {
     "name": "stdout",
     "output_type": "stream",
     "text": [
      "(-2, 0, 0, 2)\n",
      "(-1, 0, 0, 1)\n",
      "(-2, -1, 1, 2)\n"
     ]
    }
   ],
   "source": [
    "class Pair:\n",
    "    def __init__(self, x, y):\n",
    "        self.index1 = x\n",
    "        self.index2 = y\n",
    " \n",
    "# Function to find the all the unique quadruplets\n",
    "# with the elements at different indices\n",
    "def GetQuadruplets(nums, target):\n",
    "    # Store the sum mapped to a list of pair indices\n",
    "    map = {}\n",
    " \n",
    "    # Generate all possible pairs for the map\n",
    "    for i in range(len(nums) - 1):\n",
    "        for j in range(i + 1, len(nums)):\n",
    "            # Find the sum of pairs of elements\n",
    "            sum = nums[i] + nums[j]\n",
    " \n",
    "            # If the sum doesn't exist then update with the new pairs\n",
    "            if sum not in map:\n",
    "                map[sum] = [Pair(i, j)]\n",
    "            # Otherwise, add the new pair of indices to the current sum\n",
    "            else:\n",
    "                map[sum].append(Pair(i, j))\n",
    " \n",
    "    # Store all the Quadruplets\n",
    "    ans = set()\n",
    " \n",
    "    for i in range(len(nums) - 1):\n",
    "        for j in range(i + 1, len(nums)):\n",
    "            lookUp = target - (nums[i] + nums[j])\n",
    " \n",
    "            # If the sum with value (K - sum) exists\n",
    "            if lookUp in map:\n",
    "                # Get the pair of indices of sum\n",
    "                temp = map[lookUp]\n",
    " \n",
    "                for pair in temp:\n",
    "                    # Check if i, j, k and l are distinct or not\n",
    "                    if pair.index1 != i and pair.index1 != j and pair.index2 != i and pair.index2 != j:\n",
    "                        l1 = [nums[pair.index1], nums[pair.index2], nums[i], nums[j]]\n",
    "                         \n",
    "                        # Sort the list to avoid duplicacy\n",
    "                        l1.sort()\n",
    "                         \n",
    "                        # Update the set\n",
    "                        ans.add(tuple(l1))\n",
    " \n",
    "    # Print all the Quadruplets\n",
    "    print(*reversed(list(ans)), sep = '\\n')\n",
    " \n",
    "# Driver Code\n",
    "arr = [1, 0, -1, 0, -2, 2]\n",
    "K = 0\n",
    "GetQuadruplets(arr, K)\n",
    " \n",
    "# This code is contributed by phasing17"
   ]
  },
  {
   "cell_type": "markdown",
   "id": "ac787fa3",
   "metadata": {},
   "source": [
    "Question 4\n",
    "Given a sorted array of distinct integers and a target value, return the index if the\n",
    "target is found. If not, return the index where it would be if it were inserted in\n",
    "order.\n",
    "\n",
    "You must write an algorithm with O(log n) runtime complexity."
   ]
  },
  {
   "cell_type": "code",
   "execution_count": 3,
   "id": "f11085d8",
   "metadata": {},
   "outputs": [
    {
     "name": "stdout",
     "output_type": "stream",
     "text": [
      "2\n"
     ]
    }
   ],
   "source": [
    "def find_index(arr, n, K):\n",
    "     \n",
    "    # Traverse the array\n",
    "    for i in range(n):\n",
    "         \n",
    "        # If K is found\n",
    "        if arr[i] == K:\n",
    "            return i\n",
    "             \n",
    "        # If arr[i] exceeds K\n",
    "        elif arr[i] > K:\n",
    "            return i\n",
    "             \n",
    "    # If all array elements are smaller\n",
    "    return n\n",
    " \n",
    "# Driver Code\n",
    "arr = [1, 3, 5, 6]\n",
    "n = len(arr)\n",
    "K = 5\n",
    "print(find_index(arr, n, K))"
   ]
  },
  {
   "cell_type": "markdown",
   "id": "d5bf56de",
   "metadata": {},
   "source": [
    "Question 5\n",
    "You are given a large integer represented as an integer array digits, where each\n",
    "digits[i] is the ith digit of the integer. The digits are ordered from most significant\n",
    "to least significant in left-to-right order. The large integer does not contain any\n",
    "leading 0's.\n",
    "\n",
    "Increment the large integer by one and return the resulting array of digits.\n"
   ]
  },
  {
   "cell_type": "code",
   "execution_count": 4,
   "id": "9fe3cc3c",
   "metadata": {},
   "outputs": [
    {
     "name": "stdout",
     "output_type": "stream",
     "text": [
      "1 2 4 "
     ]
    }
   ],
   "source": [
    "def AddOne(digits):\n",
    "    \n",
    "    # initialize an index (digit of units)\n",
    "    index = len(digits) - 1\n",
    "      \n",
    "    # while the index is valid and the value at [index] ==\n",
    "    # 9 set it as 0\n",
    "    while (index >= 0 and digits[index] == 9):\n",
    "        digits[index] = 0\n",
    "        index -= 1\n",
    "          \n",
    "    # if index < 0 (if all digits were 9)\n",
    "    if (index < 0):\n",
    "        \n",
    "        # insert an one at the beginning of the vector\n",
    "        digits.insert(0, 1)\n",
    "          \n",
    "    # else increment the value at [index]\n",
    "    else:\n",
    "        digits[index]+=1\n",
    "  \n",
    "  \n",
    "digits = [1,2,3]\n",
    "  \n",
    "AddOne(digits)\n",
    "  \n",
    "for digit in digits:\n",
    "    print(digit, end =' ')"
   ]
  },
  {
   "cell_type": "markdown",
   "id": "88f31a96",
   "metadata": {},
   "source": [
    "Question 6\n",
    "Given a non-empty array of integers nums, every element appears twice except\n",
    "for one. Find that single one.\n",
    "\n",
    "You must implement a solution with a linear runtime complexity and use only\n",
    "constant extra space."
   ]
  },
  {
   "cell_type": "code",
   "execution_count": 8,
   "id": "673117a5",
   "metadata": {},
   "outputs": [],
   "source": [
    "from typing import List\n",
    "class Solution:\n",
    "    def singleNumber(self, nums: List[int]) -> int:\n",
    "        out = 0\n",
    "        for i in range(len(nums)):\n",
    "            out = out^nums[i]\n",
    "        return(out)\n",
    "    \n",
    "nums = [2,2,1]\n"
   ]
  },
  {
   "cell_type": "markdown",
   "id": "7a39ef41",
   "metadata": {},
   "source": [
    "Question 8\n",
    "Given an array of meeting time intervals where intervals[i] = [starti, endi],\n",
    "determine if a person could attend all meetings.\n"
   ]
  },
  {
   "cell_type": "code",
   "execution_count": 18,
   "id": "3a6e8bdd",
   "metadata": {},
   "outputs": [
    {
     "name": "stdout",
     "output_type": "stream",
     "text": [
      "False\n"
     ]
    }
   ],
   "source": [
    "class meeting:\n",
    " \n",
    "    def __init__(self, start, end, pos):\n",
    " \n",
    "        self.start = start\n",
    "        self.end = end\n",
    "        self.pos = pos\n",
    "         \n",
    "            \n",
    "def canAttendAllMeetings(intervals):\n",
    "    intervals.sort(key=lambda x: x[0])\n",
    "    previous_end = intervals[0][1]\n",
    "    for i in range(1, len(intervals)):\n",
    "        if previous_end > intervals[i][0]:\n",
    "            return False\n",
    "        previous_end = intervals[i][1]\n",
    "    return True\n",
    "intervals = [[0,30],[5,10],[15,20]]\n",
    "print(canAttendAllMeetings(intervals))"
   ]
  },
  {
   "cell_type": "code",
   "execution_count": null,
   "id": "76210dde",
   "metadata": {},
   "outputs": [],
   "source": []
  }
 ],
 "metadata": {
  "kernelspec": {
   "display_name": "Python 3 (ipykernel)",
   "language": "python",
   "name": "python3"
  },
  "language_info": {
   "codemirror_mode": {
    "name": "ipython",
    "version": 3
   },
   "file_extension": ".py",
   "mimetype": "text/x-python",
   "name": "python",
   "nbconvert_exporter": "python",
   "pygments_lexer": "ipython3",
   "version": "3.9.7"
  }
 },
 "nbformat": 4,
 "nbformat_minor": 5
}
